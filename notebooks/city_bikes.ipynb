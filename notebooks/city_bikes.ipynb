{
 "cells": [
  {
   "cell_type": "raw",
   "id": "d1e54f58-0f56-46c8-b3d1-b1efe3074359",
   "metadata": {},
   "source": [
    "Send a request to CityBikes for the city of your choice."
   ]
  },
  {
   "cell_type": "code",
   "execution_count": null,
   "id": "38f6b5af-124d-407f-aa63-147607571079",
   "metadata": {},
   "outputs": [],
   "source": [
    "import requests\n",
    "import pandas as pd\n",
    "import numpy as np\n",
    "import json "
   ]
  },
  {
   "cell_type": "code",
   "execution_count": null,
   "id": "22a6613a-b639-4dd4-9337-532d324786ca",
   "metadata": {},
   "outputs": [],
   "source": [
    "url = \"https://api.citybik.es/v2/networks/denver\"\n",
    "\n",
    "params = {\n",
    "\n",
    "        }\n",
    "\n",
    "headers = {\n",
    "\n",
    "        }\n",
    "\n",
    "response = requests.request(\"GET\", url, params=params, headers=headers)"
   ]
  },
  {
   "cell_type": "raw",
   "id": "f530048e-04ed-47a7-8923-028745057d7e",
   "metadata": {},
   "source": [
    "Parse through the response to get the details you want for the bike stations in that city (latitude, longitude, number of bikes)."
   ]
  },
  {
   "cell_type": "code",
   "execution_count": 1,
   "id": "811cb287-bedb-4433-a7e6-1a33a0ff7b7b",
   "metadata": {},
   "outputs": [
    {
     "ename": "NameError",
     "evalue": "name 'response' is not defined",
     "output_type": "error",
     "traceback": [
      "\u001b[1;31m---------------------------------------------------------------------------\u001b[0m",
      "\u001b[1;31mNameError\u001b[0m                                 Traceback (most recent call last)",
      "Cell \u001b[1;32mIn[1], line 1\u001b[0m\n\u001b[1;32m----> 1\u001b[0m rawdata \u001b[38;5;241m=\u001b[39m response\u001b[38;5;241m.\u001b[39mjson()\n\u001b[0;32m      2\u001b[0m data \u001b[38;5;241m=\u001b[39m rawdata[\u001b[38;5;124m'\u001b[39m\u001b[38;5;124mnetwork\u001b[39m\u001b[38;5;124m'\u001b[39m][\u001b[38;5;124m'\u001b[39m\u001b[38;5;124mstations\u001b[39m\u001b[38;5;124m'\u001b[39m]\n\u001b[0;32m      4\u001b[0m latitudes \u001b[38;5;241m=\u001b[39m []\n",
      "\u001b[1;31mNameError\u001b[0m: name 'response' is not defined"
     ]
    }
   ],
   "source": [
    "rawdata = response.json()\n",
    "data = rawdata['network']['stations']\n",
    "    \n",
    "latitudes = []\n",
    "longitudes = []\n",
    "free_bikes = []\n",
    "station_name = []\n",
    "station_number = []\n",
    "i=0\n",
    "\n",
    "while i < len(data):\n",
    "    station_name.append(data[i]['name'])\n",
    "    latitudes.append(data[i]['latitude'])\n",
    "    longitudes.append(data[i]['longitude'])\n",
    "    free_bikes.append(data[i]['free_bikes'])\n",
    "    station_number.append(i),\n",
    "    i=i+1"
   ]
  },
  {
   "cell_type": "raw",
   "id": "7c100db0-98e7-4612-a684-21eec96aa738",
   "metadata": {},
   "source": [
    "Put your parsed results into a DataFrame."
   ]
  },
  {
   "cell_type": "code",
   "execution_count": 2,
   "id": "5e5fd316-227f-4d2e-ba59-3375385822d3",
   "metadata": {},
   "outputs": [
    {
     "ename": "NameError",
     "evalue": "name 'pd' is not defined",
     "output_type": "error",
     "traceback": [
      "\u001b[1;31m---------------------------------------------------------------------------\u001b[0m",
      "\u001b[1;31mNameError\u001b[0m                                 Traceback (most recent call last)",
      "Cell \u001b[1;32mIn[2], line 1\u001b[0m\n\u001b[1;32m----> 1\u001b[0m df \u001b[38;5;241m=\u001b[39m pd\u001b[38;5;241m.\u001b[39mDataFrame({\n\u001b[0;32m      2\u001b[0m     \u001b[38;5;124m'\u001b[39m\u001b[38;5;124mStation Name\u001b[39m\u001b[38;5;124m'\u001b[39m : station_name,\n\u001b[0;32m      3\u001b[0m     \u001b[38;5;124m'\u001b[39m\u001b[38;5;124mLatitude\u001b[39m\u001b[38;5;124m'\u001b[39m : latitudes,\n\u001b[0;32m      4\u001b[0m     \u001b[38;5;124m'\u001b[39m\u001b[38;5;124mLongitude\u001b[39m\u001b[38;5;124m'\u001b[39m : longitudes,\n\u001b[0;32m      5\u001b[0m     \u001b[38;5;124m'\u001b[39m\u001b[38;5;124mNumber of Bikes\u001b[39m\u001b[38;5;124m'\u001b[39m : free_bikes\n\u001b[0;32m      6\u001b[0m     })\n",
      "\u001b[1;31mNameError\u001b[0m: name 'pd' is not defined"
     ]
    }
   ],
   "source": [
    "    df = pd.DataFrame({\n",
    "        'Station Name' : station_name,\n",
    "        'Latitude' : latitudes,\n",
    "        'Longitude' : longitudes,\n",
    "        'Number of Bikes' : free_bikes\n",
    "        })"
   ]
  },
  {
   "cell_type": "code",
   "execution_count": null,
   "id": "1caadb75-66a5-49f7-b379-5cc018f2d85b",
   "metadata": {},
   "outputs": [],
   "source": []
  }
 ],
 "metadata": {
  "kernelspec": {
   "display_name": "Python 3 (ipykernel)",
   "language": "python",
   "name": "python3"
  },
  "language_info": {
   "codemirror_mode": {
    "name": "ipython",
    "version": 3
   },
   "file_extension": ".py",
   "mimetype": "text/x-python",
   "name": "python",
   "nbconvert_exporter": "python",
   "pygments_lexer": "ipython3",
   "version": "3.11.7"
  }
 },
 "nbformat": 4,
 "nbformat_minor": 5
}
