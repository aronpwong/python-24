{
 "cells": [
  {
   "cell_type": "raw",
   "id": "d1e54f58-0f56-46c8-b3d1-b1efe3074359",
   "metadata": {},
   "source": [
    "Send a request to CityBikes for the city of your choice."
   ]
  },
  {
   "cell_type": "code",
   "execution_count": 3,
   "id": "38f6b5af-124d-407f-aa63-147607571079",
   "metadata": {},
   "outputs": [],
   "source": [
    "import requests\n",
    "import pandas as pd\n",
    "import numpy as np\n",
    "import json "
   ]
  },
  {
   "cell_type": "code",
   "execution_count": 4,
   "id": "22a6613a-b639-4dd4-9337-532d324786ca",
   "metadata": {},
   "outputs": [],
   "source": [
    "url = \"https://api.citybik.es/v2/networks/denver\"\n",
    "\n",
    "params = {\n",
    "\n",
    "        }\n",
    "\n",
    "headers = {\n",
    "\n",
    "        }\n",
    "\n",
    "response = requests.request(\"GET\", url, params=params, headers=headers)"
   ]
  },
  {
   "cell_type": "raw",
   "id": "f530048e-04ed-47a7-8923-028745057d7e",
   "metadata": {},
   "source": [
    "Parse through the response to get the details you want for the bike stations in that city (latitude, longitude, number of bikes)."
   ]
  },
  {
   "cell_type": "code",
   "execution_count": 5,
   "id": "811cb287-bedb-4433-a7e6-1a33a0ff7b7b",
   "metadata": {},
   "outputs": [],
   "source": [
    "rawdata = response.json()\n",
    "data = rawdata['network']['stations']\n",
    "    \n",
    "latitudes = []\n",
    "longitudes = []\n",
    "free_bikes = []\n",
    "station_name = []\n",
    "station_number = []\n",
    "i=0\n",
    "\n",
    "while i < len(data):\n",
    "    station_name.append(data[i]['name'])\n",
    "    latitudes.append(data[i]['latitude'])\n",
    "    longitudes.append(data[i]['longitude'])\n",
    "    free_bikes.append(data[i]['free_bikes'])\n",
    "    station_number.append(i),\n",
    "    i=i+1"
   ]
  },
  {
   "cell_type": "raw",
   "id": "7c100db0-98e7-4612-a684-21eec96aa738",
   "metadata": {},
   "source": [
    "Put your parsed results into a DataFrame."
   ]
  },
  {
   "cell_type": "code",
   "execution_count": 6,
   "id": "5e5fd316-227f-4d2e-ba59-3375385822d3",
   "metadata": {
    "scrolled": true
   },
   "outputs": [],
   "source": [
    "    df = pd.DataFrame({\n",
    "        'Station Name' : station_name,\n",
    "        'Latitude' : latitudes,\n",
    "        'Longitude' : longitudes,\n",
    "        'Number of Bikes' : free_bikes\n",
    "        })"
   ]
  },
  {
   "cell_type": "code",
   "execution_count": 7,
   "id": "1caadb75-66a5-49f7-b379-5cc018f2d85b",
   "metadata": {},
   "outputs": [
    {
     "name": "stdout",
     "output_type": "stream",
     "text": [
      "                         Station Name   Latitude   Longitude  Number of Bikes\n",
      "0                Walnut St at 26th St  39.759344 -104.986164                0\n",
      "1                Welton St at 15th St  39.743730 -104.992260                4\n",
      "2             12th St at Auraria Pkwy  39.748321 -105.004362                1\n",
      "3                 18th St at Wazee St  39.752963 -104.997402                0\n",
      "4            Tremont Pl at Park Ave W  39.750174 -104.980430                2\n",
      "..                                ...        ...         ...              ...\n",
      "61              Wynkoop St at 17th St  39.752701 -104.999787                0\n",
      "62            Lawrence St at 17th St   39.749613 -104.995105                1\n",
      "63              32nd St at Larimer St  39.764156 -104.977904                0\n",
      "64              Larimer St at 31st St  39.763134 -104.979556                0\n",
      "65  E Asbury Ave at S University Blvd  39.680309 -104.959109                0\n",
      "\n",
      "[66 rows x 4 columns]\n"
     ]
    }
   ],
   "source": [
    "df.to_csv('citybikes.csv', index=False)\n",
    "print(df)"
   ]
  },
  {
   "cell_type": "code",
   "execution_count": 8,
   "id": "34966754-0754-4e22-8175-e49534f13585",
   "metadata": {},
   "outputs": [
    {
     "data": {
      "text/plain": [
       "66"
      ]
     },
     "execution_count": 8,
     "metadata": {},
     "output_type": "execute_result"
    }
   ],
   "source": [
    "import sqlite3\n",
    "conn = sqlite3.connect('pydatabase')\n",
    "df.to_sql('den_bike_stations', conn, if_exists='replace', index=False, dtype={'Station_Name' : 'PRIMARY KEY'})"
   ]
  }
 ],
 "metadata": {
  "kernelspec": {
   "display_name": "Python 3 (ipykernel)",
   "language": "python",
   "name": "python3"
  },
  "language_info": {
   "codemirror_mode": {
    "name": "ipython",
    "version": 3
   },
   "file_extension": ".py",
   "mimetype": "text/x-python",
   "name": "python",
   "nbconvert_exporter": "python",
   "pygments_lexer": "ipython3",
   "version": "3.11.7"
  }
 },
 "nbformat": 4,
 "nbformat_minor": 5
}
