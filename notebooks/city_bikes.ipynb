{
 "cells": [
  {
   "cell_type": "markdown",
   "metadata": {},
   "source": [
    "# CityBikes"
   ]
  },
  {
   "cell_type": "markdown",
   "metadata": {},
   "source": [
    "Send a request to CityBikes for the city of your choice. "
   ]
  },
  {
   "cell_type": "code",
   "execution_count": null,
   "metadata": {},
   "outputs": [],
   "source": [import pandas as pd
import numpy as np
import requests
import json]
  },
  {
   "cell_type": "markdown",
   "metadata": {},
   "source": [
    "Parse through the response to get the details you want for the bike stations in that city (latitude, longitude, number of bikes). "
   ]
  },
  {
   "cell_type": "code",
   "execution_count": null,
   "metadata": {},
   "outputs": [],
   "source": [url = "https://api.citybik.es/v2/networks/denver"

params = {

         }

headers = {

          }

response = requests.request("GET", url, params=params, headers=headers)

rawdata = response.json()
data = rawdata['network']['stations']

lat = []
long = []
free_bikes = []
station_number = []
station_name = []
i=0

while i < len(data) :
    lat.append(data[i]['latitude'])
    long.append(data[i]['longitude'])
    free_bikes.append(data[i]['free_bikes'])
    station_number.append(i)
    station_name.append(data[i]['name'])
    i=i+1
]
  },
  {
   "cell_type": "markdown",
   "metadata": {},
   "source": [
    "Put your parsed results into a DataFrame."
   ]
  },
  {
   "cell_type": "code",
   "execution_count": null,
   "metadata": {},
   "outputs": [],
   "source": [df=pd.DataFrame({'Station_Number': station_number, 'Station_Name': station_name, 'Latitude' : lat, 'Longitude' : long, 'Free Bike' : free_bikes})
print(df)]
  }
 ],
 "metadata": {
  "kernelspec": {
   "display_name": "Python 3",
   "language": "python",
   "name": "python3"
  },
  "language_info": {
   "codemirror_mode": {
    "name": "ipython",
    "version": 3
   },
   "file_extension": ".py",
   "mimetype": "text/x-python",
   "name": "python",
   "nbconvert_exporter": "python",
   "pygments_lexer": "ipython3",
   "version": "3.8.5"
  }
 },
 "nbformat": 4,
 "nbformat_minor": 4
}
