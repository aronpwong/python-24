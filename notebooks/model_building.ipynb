{
 "cells": [
  {
   "cell_type": "raw",
   "id": "4dea6f70-2412-4c9e-ae25-370852064fef",
   "metadata": {},
   "source": [
    "Build a regression model."
   ]
  },
  {
   "cell_type": "code",
   "execution_count": 3,
   "id": "da7d2f66-b207-4c7f-bd05-f8725c28bb02",
   "metadata": {},
   "outputs": [],
   "source": [
    "import pandas as pd\n",
    "import sqlite3\n",
    "import statsmodels.api as sm\n",
    "conn = sqlite3.connect('pydatabase')\n",
    "all_df = pd.read_sql('select * from den_bike_stations d join yelp y on d.Station_Number = y.Nearest_Station join foursquare f on f.Nearest_Station = d.Station_Number', conn)\n",
    "all_df = all_df.drop(columns=['Nearest_Station'])"
   ]
  },
  {
   "cell_type": "raw",
   "id": "3303edc4-9b96-462e-b7ae-75d611c5df1c",
   "metadata": {},
   "source": [
    "Provide model output and an interpretation of the results."
   ]
  },
  {
   "cell_type": "code",
   "execution_count": 7,
   "id": "1a6e5e69-766a-4fb3-9a4d-b3f7a59e4a98",
   "metadata": {},
   "outputs": [
    {
     "name": "stdout",
     "output_type": "stream",
     "text": [
      "                            OLS Regression Results                            \n",
      "==============================================================================\n",
      "Dep. Variable:           Yelp_Results   R-squared:                        -inf\n",
      "Model:                            OLS   Adj. R-squared:                   -inf\n",
      "Method:                 Least Squares   F-statistic:                       nan\n",
      "Date:                Sat, 18 May 2024   Prob (F-statistic):                nan\n",
      "Time:                        14:54:35   Log-Likelihood:                 29213.\n",
      "No. Observations:                1000   AIC:                        -5.842e+04\n",
      "Df Residuals:                     999   BIC:                        -5.842e+04\n",
      "Df Model:                           0                                         \n",
      "Covariance Type:            nonrobust                                         \n",
      "===================================================================================\n",
      "                      coef    std err          t      P>|t|      [0.025      0.975]\n",
      "-----------------------------------------------------------------------------------\n",
      "const              45.0000   1.57e-15   2.86e+16      0.000      45.000      45.000\n",
      "Number of Bikes          0          0        nan        nan           0           0\n",
      "==============================================================================\n",
      "Omnibus:                          nan   Durbin-Watson:                   0.000\n",
      "Prob(Omnibus):                    nan   Jarque-Bera (JB):                  nan\n",
      "Skew:                             nan   Prob(JB):                          nan\n",
      "Kurtosis:                         nan   Cond. No.                          inf\n",
      "==============================================================================\n",
      "\n",
      "Notes:\n",
      "[1] Standard Errors assume that the covariance matrix of the errors is correctly specified.\n",
      "[2] The smallest eigenvalue is      0. This might indicate that there are\n",
      "strong multicollinearity problems or that the design matrix is singular.\n"
     ]
    },
    {
     "name": "stderr",
     "output_type": "stream",
     "text": [
      "C:\\Users\\wonga\\anaconda3\\Lib\\site-packages\\statsmodels\\stats\\stattools.py:125: RuntimeWarning: Precision loss occurred in moment calculation due to catastrophic cancellation. This occurs when the data are nearly identical. Results may be unreliable.\n",
      "  skew = stats.skew(resids, axis=axis)\n",
      "C:\\Users\\wonga\\anaconda3\\Lib\\site-packages\\statsmodels\\stats\\stattools.py:126: RuntimeWarning: Precision loss occurred in moment calculation due to catastrophic cancellation. This occurs when the data are nearly identical. Results may be unreliable.\n",
      "  kurtosis = 3 + stats.kurtosis(resids, axis=axis)\n",
      "C:\\Users\\wonga\\anaconda3\\Lib\\site-packages\\scipy\\stats\\_stats_py.py:1606: RuntimeWarning: Precision loss occurred in moment calculation due to catastrophic cancellation. This occurs when the data are nearly identical. Results may be unreliable.\n",
      "  b2 = skew(a, axis)\n",
      "C:\\Users\\wonga\\anaconda3\\Lib\\site-packages\\scipy\\stats\\_stats_py.py:1808: RuntimeWarning: Precision loss occurred in moment calculation due to catastrophic cancellation. This occurs when the data are nearly identical. Results may be unreliable.\n",
      "  b2 = kurtosis(a, axis, fisher=False)\n",
      "C:\\Users\\wonga\\anaconda3\\Lib\\site-packages\\statsmodels\\regression\\linear_model.py:1965: RuntimeWarning: divide by zero encountered in scalar divide\n",
      "  return np.sqrt(eigvals[0]/eigvals[-1])\n",
      "C:\\Users\\wonga\\anaconda3\\Lib\\site-packages\\statsmodels\\regression\\linear_model.py:1781: RuntimeWarning: divide by zero encountered in scalar divide\n",
      "  return 1 - self.ssr/self.centered_tss\n"
     ]
    }
   ],
   "source": [
    "x = all_df['Number of Bikes']\n",
    "y = all_df['Yelp_Results']\n",
    "\n",
    "x = sm.add_constant(x)\n",
    "\n",
    "model = sm.OLS(y, x).fit()\n",
    "predictions = model.predict(x)\n",
    "\n",
    "print_model = model.summary()\n",
    "print(print_model)"
   ]
  },
  {
   "cell_type": "code",
   "execution_count": 8,
   "id": "42abbae6-56a5-4714-8aec-3ee47c1232a2",
   "metadata": {},
   "outputs": [
    {
     "name": "stdout",
     "output_type": "stream",
     "text": [
      "                            OLS Regression Results                            \n",
      "==============================================================================\n",
      "Dep. Variable:     Foursquare_Results   R-squared:                      -0.000\n",
      "Model:                            OLS   Adj. R-squared:                 -0.000\n",
      "Method:                 Least Squares   F-statistic:                       nan\n",
      "Date:                Sat, 18 May 2024   Prob (F-statistic):                nan\n",
      "Time:                        14:55:06   Log-Likelihood:                -1804.0\n",
      "No. Observations:                1000   AIC:                             3610.\n",
      "Df Residuals:                     999   BIC:                             3615.\n",
      "Df Model:                           0                                         \n",
      "Covariance Type:            nonrobust                                         \n",
      "===================================================================================\n",
      "                      coef    std err          t      P>|t|      [0.025      0.975]\n",
      "-----------------------------------------------------------------------------------\n",
      "const               2.8000      0.046     60.216      0.000       2.709       2.891\n",
      "Number of Bikes          0          0        nan        nan           0           0\n",
      "==============================================================================\n",
      "Omnibus:                     4256.423   Durbin-Watson:                   0.829\n",
      "Prob(Omnibus):                  0.000   Jarque-Bera (JB):              167.824\n",
      "Skew:                          -0.408   Prob(JB):                     3.61e-37\n",
      "Kurtosis:                       1.167   Cond. No.                          inf\n",
      "==============================================================================\n",
      "\n",
      "Notes:\n",
      "[1] Standard Errors assume that the covariance matrix of the errors is correctly specified.\n",
      "[2] The smallest eigenvalue is      0. This might indicate that there are\n",
      "strong multicollinearity problems or that the design matrix is singular.\n"
     ]
    },
    {
     "name": "stderr",
     "output_type": "stream",
     "text": [
      "C:\\Users\\wonga\\anaconda3\\Lib\\site-packages\\statsmodels\\regression\\linear_model.py:1965: RuntimeWarning: divide by zero encountered in scalar divide\n",
      "  return np.sqrt(eigvals[0]/eigvals[-1])\n"
     ]
    }
   ],
   "source": [
    "x = all_df['Number of Bikes']\n",
    "y = all_df['Foursquare_Results']\n",
    "\n",
    "x = sm.add_constant(x)\n",
    "\n",
    "model = sm.OLS(y, x).fit()\n",
    "predictions = model.predict(x)\n",
    "\n",
    "print_model = model.summary()\n",
    "print(print_model)"
   ]
  },
  {
   "cell_type": "code",
   "execution_count": 9,
   "id": "eef60454-11a0-400e-b57f-084e2a777a74",
   "metadata": {},
   "outputs": [
    {
     "name": "stdout",
     "output_type": "stream",
     "text": [
      "                            OLS Regression Results                            \n",
      "==============================================================================\n",
      "Dep. Variable:           Yelp_Results   R-squared:                        -inf\n",
      "Model:                            OLS   Adj. R-squared:                   -inf\n",
      "Method:                 Least Squares   F-statistic:                    -998.0\n",
      "Date:                Sat, 18 May 2024   Prob (F-statistic):               1.00\n",
      "Time:                        14:55:41   Log-Likelihood:                -2475.3\n",
      "No. Observations:                1000   AIC:                             4955.\n",
      "Df Residuals:                     998   BIC:                             4965.\n",
      "Df Model:                           1                                         \n",
      "Covariance Type:            nonrobust                                         \n",
      "==============================================================================\n",
      "                 coef    std err          t      P>|t|      [0.025      0.975]\n",
      "------------------------------------------------------------------------------\n",
      "Latitude       0.9092   7.38e+11   1.23e-12      1.000   -1.45e+12    1.45e+12\n",
      "Longitude     -0.0576   2.79e+11  -2.06e-13      1.000   -5.48e+11    5.48e+11\n",
      "==============================================================================\n",
      "Omnibus:                          nan   Durbin-Watson:                   0.000\n",
      "Prob(Omnibus):                    nan   Jarque-Bera (JB):                  nan\n",
      "Skew:                             nan   Prob(JB):                          nan\n",
      "Kurtosis:                         nan   Cond. No.                     9.73e+14\n",
      "==============================================================================\n",
      "\n",
      "Notes:\n",
      "[1] Standard Errors assume that the covariance matrix of the errors is correctly specified.\n",
      "[2] The smallest eigenvalue is 1.33e-23. This might indicate that there are\n",
      "strong multicollinearity problems or that the design matrix is singular.\n"
     ]
    },
    {
     "name": "stderr",
     "output_type": "stream",
     "text": [
      "C:\\Users\\wonga\\anaconda3\\Lib\\site-packages\\statsmodels\\stats\\stattools.py:125: RuntimeWarning: Precision loss occurred in moment calculation due to catastrophic cancellation. This occurs when the data are nearly identical. Results may be unreliable.\n",
      "  skew = stats.skew(resids, axis=axis)\n",
      "C:\\Users\\wonga\\anaconda3\\Lib\\site-packages\\statsmodels\\stats\\stattools.py:126: RuntimeWarning: Precision loss occurred in moment calculation due to catastrophic cancellation. This occurs when the data are nearly identical. Results may be unreliable.\n",
      "  kurtosis = 3 + stats.kurtosis(resids, axis=axis)\n",
      "C:\\Users\\wonga\\anaconda3\\Lib\\site-packages\\scipy\\stats\\_stats_py.py:1606: RuntimeWarning: Precision loss occurred in moment calculation due to catastrophic cancellation. This occurs when the data are nearly identical. Results may be unreliable.\n",
      "  b2 = skew(a, axis)\n",
      "C:\\Users\\wonga\\anaconda3\\Lib\\site-packages\\scipy\\stats\\_stats_py.py:1808: RuntimeWarning: Precision loss occurred in moment calculation due to catastrophic cancellation. This occurs when the data are nearly identical. Results may be unreliable.\n",
      "  b2 = kurtosis(a, axis, fisher=False)\n",
      "C:\\Users\\wonga\\anaconda3\\Lib\\site-packages\\statsmodels\\regression\\linear_model.py:1781: RuntimeWarning: divide by zero encountered in scalar divide\n",
      "  return 1 - self.ssr/self.centered_tss\n"
     ]
    }
   ],
   "source": [
    "x = all_df[['Latitude','Longitude']]\n",
    "y = all_df['Yelp_Results']\n",
    "\n",
    "x = sm.add_constant(x)\n",
    "\n",
    "model = sm.OLS(y, x).fit()\n",
    "predictions = model.predict(x)\n",
    "\n",
    "print_model = model.summary()\n",
    "print(print_model)"
   ]
  },
  {
   "cell_type": "code",
   "execution_count": 10,
   "id": "e4c94b27-4cb8-4567-ad12-4504d08b0c5a",
   "metadata": {},
   "outputs": [
    {
     "name": "stdout",
     "output_type": "stream",
     "text": [
      "                            OLS Regression Results                            \n",
      "==============================================================================\n",
      "Dep. Variable:     Foursquare_Results   R-squared:                      -0.000\n",
      "Model:                            OLS   Adj. R-squared:                 -0.001\n",
      "Method:                 Least Squares   F-statistic:                   -0.2922\n",
      "Date:                Sat, 18 May 2024   Prob (F-statistic):               1.00\n",
      "Time:                        14:56:04   Log-Likelihood:                -1804.1\n",
      "No. Observations:                1000   AIC:                             3612.\n",
      "Df Residuals:                     998   BIC:                             3622.\n",
      "Df Model:                           1                                         \n",
      "Covariance Type:            nonrobust                                         \n",
      "==============================================================================\n",
      "                 coef    std err          t      P>|t|      [0.025      0.975]\n",
      "------------------------------------------------------------------------------\n",
      "Latitude    4.619e+11   3.77e+11      1.224      0.221   -2.79e+11     1.2e+12\n",
      "Longitude   1.746e+11   1.43e+11      1.224      0.221   -1.05e+11    4.55e+11\n",
      "==============================================================================\n",
      "Omnibus:                     4256.423   Durbin-Watson:                   0.829\n",
      "Prob(Omnibus):                  0.000   Jarque-Bera (JB):              167.824\n",
      "Skew:                          -0.408   Prob(JB):                     3.61e-37\n",
      "Kurtosis:                       1.167   Cond. No.                     9.73e+14\n",
      "==============================================================================\n",
      "\n",
      "Notes:\n",
      "[1] Standard Errors assume that the covariance matrix of the errors is correctly specified.\n",
      "[2] The smallest eigenvalue is 1.33e-23. This might indicate that there are\n",
      "strong multicollinearity problems or that the design matrix is singular.\n"
     ]
    }
   ],
   "source": [
    "x = all_df[['Latitude','Longitude']]\n",
    "y = all_df['Foursquare_Results']\n",
    "\n",
    "x = sm.add_constant(x)\n",
    "\n",
    "model = sm.OLS(y, x).fit()\n",
    "predictions = model.predict(x)\n",
    "\n",
    "print_model = model.summary()\n",
    "print(print_model)"
   ]
  },
  {
   "cell_type": "raw",
   "id": "22c68932-9f83-46fc-bfa8-e50aa537e409",
   "metadata": {},
   "source": [
    "Stretch"
   ]
  },
  {
   "cell_type": "raw",
   "id": "88d313dd-a6d2-40c3-bd7f-c0c1a1badb39",
   "metadata": {},
   "source": [
    "How can you turn the regression model into a classification model?"
   ]
  },
  {
   "cell_type": "raw",
   "id": "2de93791-50b0-4a9f-8ac6-4c585582f218",
   "metadata": {},
   "source": [
    "To turn a regression model into a classification model involves the conversion of the output of the regression model into categories. * Determine whether it is binary or multi-class. Here are the following steps: \n",
    "\n",
    "1. Determine the thresholds values to organize the continuous output into different classes. \n",
    "2. Fit a regression model \n",
    "3. Apply the threshold and use the predictions to classify the results."
   ]
  },
  {
   "cell_type": "raw",
   "id": "557e1f3f-6f35-4292-afdc-da7b1ba5b0e1",
   "metadata": {},
   "source": [
    "In the case of this project, you would take the results from both Yelp and Foursquare and classify each station. Classification will be determined by the amount of restaurants and/or bars near each station."
   ]
  }
 ],
 "metadata": {
  "kernelspec": {
   "display_name": "Python 3 (ipykernel)",
   "language": "python",
   "name": "python3"
  },
  "language_info": {
   "codemirror_mode": {
    "name": "ipython",
    "version": 3
   },
   "file_extension": ".py",
   "mimetype": "text/x-python",
   "name": "python",
   "nbconvert_exporter": "python",
   "pygments_lexer": "ipython3",
   "version": "3.11.7"
  }
 },
 "nbformat": 4,
 "nbformat_minor": 5
}
