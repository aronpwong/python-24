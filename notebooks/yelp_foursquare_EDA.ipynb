{
 "cells": [
  {
   "cell_type": "code",
   "execution_count": 420,
   "id": "0b16ea8f-f658-4a36-8fe0-dfec4a2b02bf",
   "metadata": {},
   "outputs": [],
   "source": [
    "import requests\n",
    "import pandas as pd\n",
    "import numpy as np\n",
    "import json\n",
    "import time\n",
    "import sqlite3\n",
    "conn = sqlite3.connect('pydatabase')"
   ]
  },
  {
   "cell_type": "code",
   "execution_count": 579,
   "id": "a0182204-8bca-4366-a6f6-6b0f979eab72",
   "metadata": {},
   "outputs": [],
   "source": [
    "citybike_df=pd.read_sql('SELECT * FROM den_bike_stations', conn)"
   ]
  },
  {
   "cell_type": "code",
   "execution_count": 580,
   "id": "cc0b2ca0-bd5e-4598-a77f-5903429ba5ab",
   "metadata": {},
   "outputs": [
    {
     "data": {
      "text/html": [
       "<div>\n",
       "<style scoped>\n",
       "    .dataframe tbody tr th:only-of-type {\n",
       "        vertical-align: middle;\n",
       "    }\n",
       "\n",
       "    .dataframe tbody tr th {\n",
       "        vertical-align: top;\n",
       "    }\n",
       "\n",
       "    .dataframe thead th {\n",
       "        text-align: right;\n",
       "    }\n",
       "</style>\n",
       "<table border=\"1\" class=\"dataframe\">\n",
       "  <thead>\n",
       "    <tr style=\"text-align: right;\">\n",
       "      <th></th>\n",
       "      <th>Station_Number</th>\n",
       "      <th>Station_Name</th>\n",
       "      <th>Latitude</th>\n",
       "      <th>Longitude</th>\n",
       "      <th>Number of Bikes</th>\n",
       "    </tr>\n",
       "  </thead>\n",
       "  <tbody>\n",
       "    <tr>\n",
       "      <th>0</th>\n",
       "      <td>0</td>\n",
       "      <td>Walnut St at 26th St</td>\n",
       "      <td>39.759344</td>\n",
       "      <td>-104.986164</td>\n",
       "      <td>0</td>\n",
       "    </tr>\n",
       "    <tr>\n",
       "      <th>1</th>\n",
       "      <td>1</td>\n",
       "      <td>Welton St at 15th St</td>\n",
       "      <td>39.743730</td>\n",
       "      <td>-104.992260</td>\n",
       "      <td>4</td>\n",
       "    </tr>\n",
       "    <tr>\n",
       "      <th>2</th>\n",
       "      <td>2</td>\n",
       "      <td>12th St at Auraria Pkwy</td>\n",
       "      <td>39.748321</td>\n",
       "      <td>-105.004362</td>\n",
       "      <td>1</td>\n",
       "    </tr>\n",
       "    <tr>\n",
       "      <th>3</th>\n",
       "      <td>3</td>\n",
       "      <td>18th St at Wazee St</td>\n",
       "      <td>39.752963</td>\n",
       "      <td>-104.997402</td>\n",
       "      <td>0</td>\n",
       "    </tr>\n",
       "    <tr>\n",
       "      <th>4</th>\n",
       "      <td>4</td>\n",
       "      <td>Tremont Pl at Park Ave W</td>\n",
       "      <td>39.750174</td>\n",
       "      <td>-104.980430</td>\n",
       "      <td>2</td>\n",
       "    </tr>\n",
       "    <tr>\n",
       "      <th>...</th>\n",
       "      <td>...</td>\n",
       "      <td>...</td>\n",
       "      <td>...</td>\n",
       "      <td>...</td>\n",
       "      <td>...</td>\n",
       "    </tr>\n",
       "    <tr>\n",
       "      <th>61</th>\n",
       "      <td>61</td>\n",
       "      <td>Wynkoop St at 17th St</td>\n",
       "      <td>39.752701</td>\n",
       "      <td>-104.999787</td>\n",
       "      <td>0</td>\n",
       "    </tr>\n",
       "    <tr>\n",
       "      <th>62</th>\n",
       "      <td>62</td>\n",
       "      <td>Lawrence St at 17th St</td>\n",
       "      <td>39.749613</td>\n",
       "      <td>-104.995105</td>\n",
       "      <td>1</td>\n",
       "    </tr>\n",
       "    <tr>\n",
       "      <th>63</th>\n",
       "      <td>63</td>\n",
       "      <td>32nd St at Larimer St</td>\n",
       "      <td>39.764156</td>\n",
       "      <td>-104.977904</td>\n",
       "      <td>0</td>\n",
       "    </tr>\n",
       "    <tr>\n",
       "      <th>64</th>\n",
       "      <td>64</td>\n",
       "      <td>Larimer St at 31st St</td>\n",
       "      <td>39.763134</td>\n",
       "      <td>-104.979556</td>\n",
       "      <td>0</td>\n",
       "    </tr>\n",
       "    <tr>\n",
       "      <th>65</th>\n",
       "      <td>65</td>\n",
       "      <td>E Asbury Ave at S University Blvd</td>\n",
       "      <td>39.680309</td>\n",
       "      <td>-104.959109</td>\n",
       "      <td>0</td>\n",
       "    </tr>\n",
       "  </tbody>\n",
       "</table>\n",
       "<p>66 rows × 5 columns</p>\n",
       "</div>"
      ],
      "text/plain": [
       "    Station_Number                       Station_Name   Latitude   Longitude  \\\n",
       "0                0               Walnut St at 26th St  39.759344 -104.986164   \n",
       "1                1               Welton St at 15th St  39.743730 -104.992260   \n",
       "2                2            12th St at Auraria Pkwy  39.748321 -105.004362   \n",
       "3                3                18th St at Wazee St  39.752963 -104.997402   \n",
       "4                4           Tremont Pl at Park Ave W  39.750174 -104.980430   \n",
       "..             ...                                ...        ...         ...   \n",
       "61              61              Wynkoop St at 17th St  39.752701 -104.999787   \n",
       "62              62            Lawrence St at 17th St   39.749613 -104.995105   \n",
       "63              63              32nd St at Larimer St  39.764156 -104.977904   \n",
       "64              64              Larimer St at 31st St  39.763134 -104.979556   \n",
       "65              65  E Asbury Ave at S University Blvd  39.680309 -104.959109   \n",
       "\n",
       "    Number of Bikes  \n",
       "0                 0  \n",
       "1                 4  \n",
       "2                 1  \n",
       "3                 0  \n",
       "4                 2  \n",
       "..              ...  \n",
       "61                0  \n",
       "62                1  \n",
       "63                0  \n",
       "64                0  \n",
       "65                0  \n",
       "\n",
       "[66 rows x 5 columns]"
      ]
     },
     "execution_count": 580,
     "metadata": {},
     "output_type": "execute_result"
    }
   ],
   "source": [
    "citybike_df"
   ]
  },
  {
   "cell_type": "raw",
   "id": "f26061ca-928b-4cee-806b-19d9ef210144",
   "metadata": {},
   "source": [
    "Foursquare"
   ]
  },
  {
   "cell_type": "raw",
   "id": "4c734e8d-d209-42b3-a001-206710627c68",
   "metadata": {},
   "source": [
    "Send a request to Foursquare with a small radius (1000m) for all the bike stations in your city of choice."
   ]
  },
  {
   "cell_type": "code",
   "execution_count": 567,
   "id": "168d7de3-3a38-4cba-bf42-e953a038b533",
   "metadata": {},
   "outputs": [],
   "source": [
    "def get_fsvenues(latitude, longitude):\n",
    "    url = \"https://api.foursquare.com/v3/places/search\"\n",
    "   \n",
    "    params = {\n",
    "        'll' : f\"{latitude},{longitude}\",\n",
    "        'radius' : 100,\n",
    "        'categories' : 13000,\n",
    "        'fields': 'name,location,rating,distance,popularity',\n",
    "        'sort':\"DISTANCE\",\n",
    "        'limit': 50\n",
    "    }\n",
    "\n",
    "    headers = {\n",
    "        \"Accept\": \"application/json\",\n",
    "        \"Authorization\":'fsq3zey6wred2fLCHrUka6XF5ZYXNyRIxi07lpgNo8d0CUQ='\n",
    "    }\n",
    "\n",
    "    response = requests.get(url, params=params, headers=headers)\n",
    "    print (response.url)\n",
    "    print (response.status_code)\n",
    "    \n",
    "    return response\n",
    "pass"
   ]
  },
  {
   "cell_type": "raw",
   "id": "80470158-5f65-4f69-8fb5-143420cb6d53",
   "metadata": {},
   "source": [
    "Parse through the response to get the POI (such as restaurants, bars, etc) details you want (ratings, name, location, etc)"
   ]
  },
  {
   "cell_type": "code",
   "execution_count": 538,
   "id": "85d229fb-4d95-4093-98c5-e83beac5f318",
   "metadata": {},
   "outputs": [
    {
     "name": "stdout",
     "output_type": "stream",
     "text": [
      "https://api.foursquare.com/v3/places/search?ll=39.759344%2C-104.986164&radius=100&categories=13000&fields=name%2Clocation%2Crating%2Cdistance%2Cpopularity&sort=DISTANCE&limit=50\n",
      "200\n",
      "https://api.foursquare.com/v3/places/search?ll=39.74373%2C-104.99226&radius=100&categories=13000&fields=name%2Clocation%2Crating%2Cdistance%2Cpopularity&sort=DISTANCE&limit=50\n",
      "200\n",
      "https://api.foursquare.com/v3/places/search?ll=39.748321%2C-105.0043619&radius=100&categories=13000&fields=name%2Clocation%2Crating%2Cdistance%2Cpopularity&sort=DISTANCE&limit=50\n",
      "200\n",
      "https://api.foursquare.com/v3/places/search?ll=39.75296271%2C-104.9974017&radius=100&categories=13000&fields=name%2Clocation%2Crating%2Cdistance%2Cpopularity&sort=DISTANCE&limit=50\n",
      "200\n",
      "https://api.foursquare.com/v3/places/search?ll=39.7501737%2C-104.9804304&radius=100&categories=13000&fields=name%2Clocation%2Crating%2Cdistance%2Cpopularity&sort=DISTANCE&limit=50\n",
      "200\n",
      "https://api.foursquare.com/v3/places/search?ll=39.7496545%2C-104.9930748&radius=100&categories=13000&fields=name%2Clocation%2Crating%2Cdistance%2Cpopularity&sort=DISTANCE&limit=50\n",
      "200\n",
      "https://api.foursquare.com/v3/places/search?ll=39.7668946%2C-104.9743533&radius=100&categories=13000&fields=name%2Clocation%2Crating%2Cdistance%2Cpopularity&sort=DISTANCE&limit=50\n",
      "200\n",
      "https://api.foursquare.com/v3/places/search?ll=39.7353179%2C-104.9832527&radius=100&categories=13000&fields=name%2Clocation%2Crating%2Cdistance%2Cpopularity&sort=DISTANCE&limit=50\n",
      "200\n",
      "https://api.foursquare.com/v3/places/search?ll=39.75459034%2C-104.9971026&radius=100&categories=13000&fields=name%2Clocation%2Crating%2Cdistance%2Cpopularity&sort=DISTANCE&limit=50\n",
      "200\n",
      "https://api.foursquare.com/v3/places/search?ll=39.7572151%2C-105.0077941&radius=100&categories=13000&fields=name%2Clocation%2Crating%2Cdistance%2Cpopularity&sort=DISTANCE&limit=50\n",
      "200\n",
      "https://api.foursquare.com/v3/places/search?ll=39.7592646%2C-104.9742307&radius=100&categories=13000&fields=name%2Clocation%2Crating%2Cdistance%2Cpopularity&sort=DISTANCE&limit=50\n",
      "200\n",
      "https://api.foursquare.com/v3/places/search?ll=39.7353177%2C-104.9878646&radius=100&categories=13000&fields=name%2Clocation%2Crating%2Cdistance%2Cpopularity&sort=DISTANCE&limit=50\n",
      "200\n",
      "https://api.foursquare.com/v3/places/search?ll=39.760678%2C-105.0110208&radius=100&categories=13000&fields=name%2Clocation%2Crating%2Cdistance%2Cpopularity&sort=DISTANCE&limit=50\n",
      "200\n",
      "https://api.foursquare.com/v3/places/search?ll=39.7643291%2C-104.9867745&radius=100&categories=13000&fields=name%2Clocation%2Crating%2Cdistance%2Cpopularity&sort=DISTANCE&limit=50\n",
      "200\n",
      "https://api.foursquare.com/v3/places/search?ll=39.7589105%2C-105.0086523&radius=100&categories=13000&fields=name%2Clocation%2Crating%2Cdistance%2Cpopularity&sort=DISTANCE&limit=50\n",
      "200\n",
      "https://api.foursquare.com/v3/places/search?ll=39.7569027%2C-104.9854662&radius=100&categories=13000&fields=name%2Clocation%2Crating%2Cdistance%2Cpopularity&sort=DISTANCE&limit=50\n",
      "200\n",
      "https://api.foursquare.com/v3/places/search?ll=39.758575%2C-105.015749&radius=100&categories=13000&fields=name%2Clocation%2Crating%2Cdistance%2Cpopularity&sort=DISTANCE&limit=50\n",
      "200\n",
      "https://api.foursquare.com/v3/places/search?ll=39.753335%2C-104.990856&radius=100&categories=13000&fields=name%2Clocation%2Crating%2Cdistance%2Cpopularity&sort=DISTANCE&limit=50\n",
      "200\n",
      "https://api.foursquare.com/v3/places/search?ll=39.74864489%2C-104.991756&radius=100&categories=13000&fields=name%2Clocation%2Crating%2Cdistance%2Cpopularity&sort=DISTANCE&limit=50\n",
      "200\n",
      "https://api.foursquare.com/v3/places/search?ll=39.7499163%2C-105.0016052&radius=100&categories=13000&fields=name%2Clocation%2Crating%2Cdistance%2Cpopularity&sort=DISTANCE&limit=50\n",
      "200\n",
      "https://api.foursquare.com/v3/places/search?ll=39.7581242%2C-104.9872752&radius=100&categories=13000&fields=name%2Clocation%2Crating%2Cdistance%2Cpopularity&sort=DISTANCE&limit=50\n",
      "200\n",
      "https://api.foursquare.com/v3/places/search?ll=39.7479403%2C-104.9837465&radius=100&categories=13000&fields=name%2Clocation%2Crating%2Cdistance%2Cpopularity&sort=DISTANCE&limit=50\n",
      "200\n",
      "https://api.foursquare.com/v3/places/search?ll=39.7398565%2C-104.9696043&radius=100&categories=13000&fields=name%2Clocation%2Crating%2Cdistance%2Cpopularity&sort=DISTANCE&limit=50\n",
      "200\n",
      "https://api.foursquare.com/v3/places/search?ll=39.7494994%2C-104.9971826&radius=100&categories=13000&fields=name%2Clocation%2Crating%2Cdistance%2Cpopularity&sort=DISTANCE&limit=50\n",
      "200\n",
      "https://api.foursquare.com/v3/places/search?ll=39.754198%2C-105.001257&radius=100&categories=13000&fields=name%2Clocation%2Crating%2Cdistance%2Cpopularity&sort=DISTANCE&limit=50\n",
      "200\n",
      "https://api.foursquare.com/v3/places/search?ll=39.757175%2C-104.990517&radius=100&categories=13000&fields=name%2Clocation%2Crating%2Cdistance%2Cpopularity&sort=DISTANCE&limit=50\n",
      "200\n",
      "https://api.foursquare.com/v3/places/search?ll=39.757547%2C-104.986402&radius=100&categories=13000&fields=name%2Clocation%2Crating%2Cdistance%2Cpopularity&sort=DISTANCE&limit=50\n",
      "200\n",
      "https://api.foursquare.com/v3/places/search?ll=39.733998%2C-104.9836776&radius=100&categories=13000&fields=name%2Clocation%2Crating%2Cdistance%2Cpopularity&sort=DISTANCE&limit=50\n",
      "200\n",
      "https://api.foursquare.com/v3/places/search?ll=39.7414257%2C-104.9900552&radius=100&categories=13000&fields=name%2Clocation%2Crating%2Cdistance%2Cpopularity&sort=DISTANCE&limit=50\n",
      "200\n",
      "https://api.foursquare.com/v3/places/search?ll=39.7683802%2C-104.98115&radius=100&categories=13000&fields=name%2Clocation%2Crating%2Cdistance%2Cpopularity&sort=DISTANCE&limit=50\n",
      "200\n",
      "https://api.foursquare.com/v3/places/search?ll=39.754741%2C-104.97793&radius=100&categories=13000&fields=name%2Clocation%2Crating%2Cdistance%2Cpopularity&sort=DISTANCE&limit=50\n",
      "200\n",
      "https://api.foursquare.com/v3/places/search?ll=39.7504992%2C-104.9939508&radius=100&categories=13000&fields=name%2Clocation%2Crating%2Cdistance%2Cpopularity&sort=DISTANCE&limit=50\n",
      "200\n",
      "https://api.foursquare.com/v3/places/search?ll=39.7584767%2C-104.9982378&radius=100&categories=13000&fields=name%2Clocation%2Crating%2Cdistance%2Cpopularity&sort=DISTANCE&limit=50\n",
      "200\n",
      "https://api.foursquare.com/v3/places/search?ll=39.762586%2C-104.9835284&radius=100&categories=13000&fields=name%2Clocation%2Crating%2Cdistance%2Cpopularity&sort=DISTANCE&limit=50\n",
      "200\n",
      "https://api.foursquare.com/v3/places/search?ll=39.7320882%2C-104.9833903&radius=100&categories=13000&fields=name%2Clocation%2Crating%2Cdistance%2Cpopularity&sort=DISTANCE&limit=50\n",
      "200\n",
      "https://api.foursquare.com/v3/places/search?ll=39.7384434%2C-104.9956133&radius=100&categories=13000&fields=name%2Clocation%2Crating%2Cdistance%2Cpopularity&sort=DISTANCE&limit=50\n",
      "200\n",
      "https://api.foursquare.com/v3/places/search?ll=39.7508683%2C-105.0023092&radius=100&categories=13000&fields=name%2Clocation%2Crating%2Cdistance%2Cpopularity&sort=DISTANCE&limit=50\n",
      "200\n",
      "https://api.foursquare.com/v3/places/search?ll=39.7537028%2C-104.9983586&radius=100&categories=13000&fields=name%2Clocation%2Crating%2Cdistance%2Cpopularity&sort=DISTANCE&limit=50\n",
      "200\n",
      "https://api.foursquare.com/v3/places/search?ll=39.7526474%2C-105.0035237&radius=100&categories=13000&fields=name%2Clocation%2Crating%2Cdistance%2Cpopularity&sort=DISTANCE&limit=50\n",
      "200\n",
      "https://api.foursquare.com/v3/places/search?ll=39.7491124%2C-104.98513&radius=100&categories=13000&fields=name%2Clocation%2Crating%2Cdistance%2Cpopularity&sort=DISTANCE&limit=50\n",
      "200\n",
      "https://api.foursquare.com/v3/places/search?ll=39.75194111%2C-104.9936239&radius=100&categories=13000&fields=name%2Clocation%2Crating%2Cdistance%2Cpopularity&sort=DISTANCE&limit=50\n",
      "200\n",
      "https://api.foursquare.com/v3/places/search?ll=39.747395%2C-104.992955&radius=100&categories=13000&fields=name%2Clocation%2Crating%2Cdistance%2Cpopularity&sort=DISTANCE&limit=50\n",
      "200\n",
      "https://api.foursquare.com/v3/places/search?ll=39.7339564%2C-104.987657&radius=100&categories=13000&fields=name%2Clocation%2Crating%2Cdistance%2Cpopularity&sort=DISTANCE&limit=50\n",
      "200\n",
      "https://api.foursquare.com/v3/places/search?ll=39.7520686%2C-105.0007928&radius=100&categories=13000&fields=name%2Clocation%2Crating%2Cdistance%2Cpopularity&sort=DISTANCE&limit=50\n",
      "200\n",
      "https://api.foursquare.com/v3/places/search?ll=39.7539262%2C-104.9794034&radius=100&categories=13000&fields=name%2Clocation%2Crating%2Cdistance%2Cpopularity&sort=DISTANCE&limit=50\n",
      "200\n",
      "https://api.foursquare.com/v3/places/search?ll=39.746396%2C-104.981148&radius=100&categories=13000&fields=name%2Clocation%2Crating%2Cdistance%2Cpopularity&sort=DISTANCE&limit=50\n",
      "200\n",
      "https://api.foursquare.com/v3/places/search?ll=39.759395%2C-104.984393&radius=100&categories=13000&fields=name%2Clocation%2Crating%2Cdistance%2Cpopularity&sort=DISTANCE&limit=50\n",
      "200\n",
      "https://api.foursquare.com/v3/places/search?ll=39.7418668%2C-104.9929222&radius=100&categories=13000&fields=name%2Clocation%2Crating%2Cdistance%2Cpopularity&sort=DISTANCE&limit=50\n",
      "200\n",
      "https://api.foursquare.com/v3/places/search?ll=39.7512447%2C-104.9860453&radius=100&categories=13000&fields=name%2Clocation%2Crating%2Cdistance%2Cpopularity&sort=DISTANCE&limit=50\n",
      "200\n",
      "https://api.foursquare.com/v3/places/search?ll=39.7613886%2C-104.9817286&radius=100&categories=13000&fields=name%2Clocation%2Crating%2Cdistance%2Cpopularity&sort=DISTANCE&limit=50\n",
      "200\n",
      "https://api.foursquare.com/v3/places/search?ll=39.75642%2C-104.99201&radius=100&categories=13000&fields=name%2Clocation%2Crating%2Cdistance%2Cpopularity&sort=DISTANCE&limit=50\n",
      "200\n",
      "https://api.foursquare.com/v3/places/search?ll=39.7582758%2C-105.0131165&radius=100&categories=13000&fields=name%2Clocation%2Crating%2Cdistance%2Cpopularity&sort=DISTANCE&limit=50\n",
      "200\n",
      "https://api.foursquare.com/v3/places/search?ll=39.7645408%2C-104.9759737&radius=100&categories=13000&fields=name%2Clocation%2Crating%2Cdistance%2Cpopularity&sort=DISTANCE&limit=50\n",
      "200\n",
      "https://api.foursquare.com/v3/places/search?ll=39.7353033%2C-104.9914745&radius=100&categories=13000&fields=name%2Clocation%2Crating%2Cdistance%2Cpopularity&sort=DISTANCE&limit=50\n",
      "200\n",
      "https://api.foursquare.com/v3/places/search?ll=39.7465564%2C-104.9958241&radius=100&categories=13000&fields=name%2Clocation%2Crating%2Cdistance%2Cpopularity&sort=DISTANCE&limit=50\n",
      "200\n",
      "https://api.foursquare.com/v3/places/search?ll=39.7594322%2C-105.0104252&radius=100&categories=13000&fields=name%2Clocation%2Crating%2Cdistance%2Cpopularity&sort=DISTANCE&limit=50\n",
      "200\n",
      "https://api.foursquare.com/v3/places/search?ll=39.7596819%2C-105.0156723&radius=100&categories=13000&fields=name%2Clocation%2Crating%2Cdistance%2Cpopularity&sort=DISTANCE&limit=50\n",
      "200\n",
      "https://api.foursquare.com/v3/places/search?ll=39.7455193%2C-104.9899082&radius=100&categories=13000&fields=name%2Clocation%2Crating%2Cdistance%2Cpopularity&sort=DISTANCE&limit=50\n",
      "200\n",
      "https://api.foursquare.com/v3/places/search?ll=39.7401668%2C-104.972203&radius=100&categories=13000&fields=name%2Clocation%2Crating%2Cdistance%2Cpopularity&sort=DISTANCE&limit=50\n",
      "200\n",
      "https://api.foursquare.com/v3/places/search?ll=39.7337557%2C-104.9821118&radius=100&categories=13000&fields=name%2Clocation%2Crating%2Cdistance%2Cpopularity&sort=DISTANCE&limit=50\n",
      "200\n",
      "https://api.foursquare.com/v3/places/search?ll=39.74641%2C-104.98367&radius=100&categories=13000&fields=name%2Clocation%2Crating%2Cdistance%2Cpopularity&sort=DISTANCE&limit=50\n",
      "200\n",
      "https://api.foursquare.com/v3/places/search?ll=39.752701%2C-104.999787&radius=100&categories=13000&fields=name%2Clocation%2Crating%2Cdistance%2Cpopularity&sort=DISTANCE&limit=50\n",
      "200\n",
      "https://api.foursquare.com/v3/places/search?ll=39.7496126%2C-104.995105&radius=100&categories=13000&fields=name%2Clocation%2Crating%2Cdistance%2Cpopularity&sort=DISTANCE&limit=50\n",
      "200\n",
      "https://api.foursquare.com/v3/places/search?ll=39.7641559%2C-104.9779038&radius=100&categories=13000&fields=name%2Clocation%2Crating%2Cdistance%2Cpopularity&sort=DISTANCE&limit=50\n",
      "200\n",
      "https://api.foursquare.com/v3/places/search?ll=39.7631337%2C-104.9795555&radius=100&categories=13000&fields=name%2Clocation%2Crating%2Cdistance%2Cpopularity&sort=DISTANCE&limit=50\n",
      "200\n",
      "https://api.foursquare.com/v3/places/search?ll=39.680309%2C-104.9591093&radius=100&categories=13000&fields=name%2Clocation%2Crating%2Cdistance%2Cpopularity&sort=DISTANCE&limit=50\n",
      "200\n"
     ]
    }
   ],
   "source": [
    "fs_results = pd.DataFrame(columns=['Nearest_Station','Foursquare_Results'])\n",
    "\n",
    "for station in citybike_df['Station_Number']:\n",
    "\n",
    "    res = get_fsvenues(latitude=citybike_df.iloc[station]['Latitude'], longitude=citybike_df.iloc[station]['Longitude'] )\n",
    "    rd = res.json()\n",
    "    new_row = pd.DataFrame( {'Nearest_Station': [station] ,'Foursquare_Results': len(rd['results'] )}  )\n",
    "    foursquare_results= pd.concat([foursquare_results, new_row], ignore_index=True)"
   ]
  },
  {
   "cell_type": "code",
   "execution_count": 539,
   "id": "726adc36-fc66-4066-9060-93d8d45b3fc5",
   "metadata": {},
   "outputs": [
    {
     "name": "stdout",
     "output_type": "stream",
     "text": [
      "    Nearest_Station Foursquare_Results\n",
      "0                 0                  1\n",
      "1                 1                  1\n",
      "2                 2                  1\n",
      "3                 3                  1\n",
      "4                 4                  1\n",
      "..              ...                ...\n",
      "661              61                 14\n",
      "662              62                  6\n",
      "663              63                  4\n",
      "664              64                  4\n",
      "665              65                  4\n",
      "\n",
      "[666 rows x 2 columns]\n"
     ]
    }
   ],
   "source": [
    "print(foursquare_results)"
   ]
  },
  {
   "cell_type": "code",
   "execution_count": 540,
   "id": "d8ff7886-1046-472c-9cbc-84fdb60c7b9e",
   "metadata": {},
   "outputs": [
    {
     "data": {
      "text/html": [
       "<div>\n",
       "<style scoped>\n",
       "    .dataframe tbody tr th:only-of-type {\n",
       "        vertical-align: middle;\n",
       "    }\n",
       "\n",
       "    .dataframe tbody tr th {\n",
       "        vertical-align: top;\n",
       "    }\n",
       "\n",
       "    .dataframe thead th {\n",
       "        text-align: right;\n",
       "    }\n",
       "</style>\n",
       "<table border=\"1\" class=\"dataframe\">\n",
       "  <thead>\n",
       "    <tr style=\"text-align: right;\">\n",
       "      <th></th>\n",
       "      <th>Nearest_Station</th>\n",
       "      <th>Foursquare_Results</th>\n",
       "    </tr>\n",
       "  </thead>\n",
       "  <tbody>\n",
       "    <tr>\n",
       "      <th>0</th>\n",
       "      <td>0</td>\n",
       "      <td>1</td>\n",
       "    </tr>\n",
       "    <tr>\n",
       "      <th>1</th>\n",
       "      <td>1</td>\n",
       "      <td>1</td>\n",
       "    </tr>\n",
       "    <tr>\n",
       "      <th>2</th>\n",
       "      <td>2</td>\n",
       "      <td>1</td>\n",
       "    </tr>\n",
       "    <tr>\n",
       "      <th>3</th>\n",
       "      <td>3</td>\n",
       "      <td>1</td>\n",
       "    </tr>\n",
       "    <tr>\n",
       "      <th>4</th>\n",
       "      <td>4</td>\n",
       "      <td>1</td>\n",
       "    </tr>\n",
       "    <tr>\n",
       "      <th>...</th>\n",
       "      <td>...</td>\n",
       "      <td>...</td>\n",
       "    </tr>\n",
       "    <tr>\n",
       "      <th>661</th>\n",
       "      <td>61</td>\n",
       "      <td>14</td>\n",
       "    </tr>\n",
       "    <tr>\n",
       "      <th>662</th>\n",
       "      <td>62</td>\n",
       "      <td>6</td>\n",
       "    </tr>\n",
       "    <tr>\n",
       "      <th>663</th>\n",
       "      <td>63</td>\n",
       "      <td>4</td>\n",
       "    </tr>\n",
       "    <tr>\n",
       "      <th>664</th>\n",
       "      <td>64</td>\n",
       "      <td>4</td>\n",
       "    </tr>\n",
       "    <tr>\n",
       "      <th>665</th>\n",
       "      <td>65</td>\n",
       "      <td>4</td>\n",
       "    </tr>\n",
       "  </tbody>\n",
       "</table>\n",
       "<p>666 rows × 2 columns</p>\n",
       "</div>"
      ],
      "text/plain": [
       "    Nearest_Station Foursquare_Results\n",
       "0                 0                  1\n",
       "1                 1                  1\n",
       "2                 2                  1\n",
       "3                 3                  1\n",
       "4                 4                  1\n",
       "..              ...                ...\n",
       "661              61                 14\n",
       "662              62                  6\n",
       "663              63                  4\n",
       "664              64                  4\n",
       "665              65                  4\n",
       "\n",
       "[666 rows x 2 columns]"
      ]
     },
     "execution_count": 540,
     "metadata": {},
     "output_type": "execute_result"
    }
   ],
   "source": [
    "foursquare_results"
   ]
  },
  {
   "cell_type": "code",
   "execution_count": 553,
   "id": "9710472c-8061-4930-b680-f125ff73c0be",
   "metadata": {},
   "outputs": [],
   "source": [
    "foursquare_results.to_csv('foursquare.csv', index=False)"
   ]
  },
  {
   "cell_type": "code",
   "execution_count": 554,
   "id": "fd80fd7f-af1e-44e3-96cf-b0f85037e768",
   "metadata": {},
   "outputs": [
    {
     "data": {
      "text/plain": [
       "666"
      ]
     },
     "execution_count": 554,
     "metadata": {},
     "output_type": "execute_result"
    }
   ],
   "source": [
    "import sqlite3\n",
    "conn = sqlite3.connect('pydatabase')\n",
    "foursquare_results.to_sql('foursquare', conn, if_exists='replace', index=False)"
   ]
  },
  {
   "cell_type": "raw",
   "id": "95361349-8513-47f7-bd64-236a330d29ff",
   "metadata": {},
   "source": [
    "Yelp"
   ]
  },
  {
   "cell_type": "raw",
   "id": "354ceb9f-c318-4e28-934d-16bee37e1693",
   "metadata": {},
   "source": [
    "Send a request to Yelp with a small radius (1000m) for all the bike stations in your city of choice."
   ]
  },
  {
   "cell_type": "code",
   "execution_count": 568,
   "id": "bd32d3e8-bcf1-4248-a79d-1bb95dd2f64c",
   "metadata": {},
   "outputs": [],
   "source": [
    "API_KEY = '9x_wkvC8JY9KVIVX5HVRa-DdnO7QJrkvMZgfliwxueKPaGp-FyShTwEAD5KlStb8ziZSqCp58YehntSFR9uVzNuhzGNIDDLhoV3YdvCfAKX05f2bhowoDL8B8xZJZnYx'\n",
    "\n",
    "def get_yvenues(latitude, longitude):  \n",
    "    url = 'https://api.yelp.com/v3/businesses/search'\n",
    "\n",
    "    params = {\n",
    "            'latitude': latitude,\n",
    "            'longitude': longitude,\n",
    "            'radius' : 1000,\n",
    "            'categories' : 'restaurants,bars',\n",
    "            'sort_by' : 'rating'\n",
    "         }\n",
    "\n",
    "    headers = {\n",
    "            \"accept\": \"application/json\",\n",
    "            \"user-agent\": \"lhl_projects\",\n",
    "           \"Authorization\": f'Bearer {API_KEY}'\n",
    "        }\n",
    "\n",
    "    response = requests.get(url, params=params, headers=headers)\n",
    "    return response\n",
    "    print (response.url)\n",
    "    print (response.status_code)\n",
    "pass"
   ]
  },
  {
   "cell_type": "raw",
   "id": "171c17fc-37c0-44a2-9fe0-c00dd5ec3f07",
   "metadata": {},
   "source": [
    "Parse through the response to get the POI (such as restaurants, bars, etc) details you want (ratings, name, location, etc)"
   ]
  },
  {
   "cell_type": "code",
   "execution_count": 569,
   "id": "735843ec-6ba7-4873-9cb6-4eed41891d0f",
   "metadata": {},
   "outputs": [],
   "source": [
    "i=0\n",
    "y_results = pd.DataFrame(columns=['Nearest_Station', 'Yelp_Results'])\n",
    "\n",
    "while i < 100:\n",
    "    res = get_yvenues(latitude=citybike_df.iloc[station]['Latitude'], longitude=citybike_df.iloc[station]['Longitude'] )\n",
    "    rd = res.json()\n",
    "    new_row = pd.DataFrame({'Nearest_Station': [citybike_df.loc[station, 'Station_Number']], 'Yelp_Results': rd['total']})\n",
    "    yelp_results= pd.concat([yelp_results, new_row], ignore_index=True)\n",
    "\n",
    "    i=i+1\n"
   ]
  },
  {
   "cell_type": "code",
   "execution_count": 570,
   "id": "0f22b7cd-d42f-461c-b549-1d3ee6e3845b",
   "metadata": {},
   "outputs": [
    {
     "name": "stdout",
     "output_type": "stream",
     "text": [
      "    Nearest_Station Yelp_Results\n",
      "0                65           45\n",
      "1                65           45\n",
      "2                65           45\n",
      "3                65           45\n",
      "4                65           45\n",
      "..              ...          ...\n",
      "195              65           45\n",
      "196              65           45\n",
      "197              65           45\n",
      "198              65           45\n",
      "199              65           45\n",
      "\n",
      "[200 rows x 2 columns]\n"
     ]
    }
   ],
   "source": [
    "print(yelp_results)"
   ]
  },
  {
   "cell_type": "code",
   "execution_count": 571,
   "id": "5263b491-fab6-4c92-83b7-7c4b7a472cd4",
   "metadata": {},
   "outputs": [
    {
     "data": {
      "text/html": [
       "<div>\n",
       "<style scoped>\n",
       "    .dataframe tbody tr th:only-of-type {\n",
       "        vertical-align: middle;\n",
       "    }\n",
       "\n",
       "    .dataframe tbody tr th {\n",
       "        vertical-align: top;\n",
       "    }\n",
       "\n",
       "    .dataframe thead th {\n",
       "        text-align: right;\n",
       "    }\n",
       "</style>\n",
       "<table border=\"1\" class=\"dataframe\">\n",
       "  <thead>\n",
       "    <tr style=\"text-align: right;\">\n",
       "      <th></th>\n",
       "      <th>Nearest_Station</th>\n",
       "      <th>Yelp_Results</th>\n",
       "    </tr>\n",
       "  </thead>\n",
       "  <tbody>\n",
       "    <tr>\n",
       "      <th>0</th>\n",
       "      <td>65</td>\n",
       "      <td>45</td>\n",
       "    </tr>\n",
       "    <tr>\n",
       "      <th>1</th>\n",
       "      <td>65</td>\n",
       "      <td>45</td>\n",
       "    </tr>\n",
       "    <tr>\n",
       "      <th>2</th>\n",
       "      <td>65</td>\n",
       "      <td>45</td>\n",
       "    </tr>\n",
       "    <tr>\n",
       "      <th>3</th>\n",
       "      <td>65</td>\n",
       "      <td>45</td>\n",
       "    </tr>\n",
       "    <tr>\n",
       "      <th>4</th>\n",
       "      <td>65</td>\n",
       "      <td>45</td>\n",
       "    </tr>\n",
       "    <tr>\n",
       "      <th>...</th>\n",
       "      <td>...</td>\n",
       "      <td>...</td>\n",
       "    </tr>\n",
       "    <tr>\n",
       "      <th>195</th>\n",
       "      <td>65</td>\n",
       "      <td>45</td>\n",
       "    </tr>\n",
       "    <tr>\n",
       "      <th>196</th>\n",
       "      <td>65</td>\n",
       "      <td>45</td>\n",
       "    </tr>\n",
       "    <tr>\n",
       "      <th>197</th>\n",
       "      <td>65</td>\n",
       "      <td>45</td>\n",
       "    </tr>\n",
       "    <tr>\n",
       "      <th>198</th>\n",
       "      <td>65</td>\n",
       "      <td>45</td>\n",
       "    </tr>\n",
       "    <tr>\n",
       "      <th>199</th>\n",
       "      <td>65</td>\n",
       "      <td>45</td>\n",
       "    </tr>\n",
       "  </tbody>\n",
       "</table>\n",
       "<p>200 rows × 2 columns</p>\n",
       "</div>"
      ],
      "text/plain": [
       "    Nearest_Station Yelp_Results\n",
       "0                65           45\n",
       "1                65           45\n",
       "2                65           45\n",
       "3                65           45\n",
       "4                65           45\n",
       "..              ...          ...\n",
       "195              65           45\n",
       "196              65           45\n",
       "197              65           45\n",
       "198              65           45\n",
       "199              65           45\n",
       "\n",
       "[200 rows x 2 columns]"
      ]
     },
     "execution_count": 571,
     "metadata": {},
     "output_type": "execute_result"
    }
   ],
   "source": [
    "yelp_results"
   ]
  },
  {
   "cell_type": "code",
   "execution_count": 555,
   "id": "c7cbad2b-0fa5-4122-af00-e2859aec9ab8",
   "metadata": {},
   "outputs": [],
   "source": [
    "yelp_results.to_csv('foursquare.csv', index=False)"
   ]
  },
  {
   "cell_type": "code",
   "execution_count": 556,
   "id": "81401a56-deb5-47df-b0eb-8835c1fb9248",
   "metadata": {},
   "outputs": [
    {
     "data": {
      "text/plain": [
       "100"
      ]
     },
     "execution_count": 556,
     "metadata": {},
     "output_type": "execute_result"
    }
   ],
   "source": [
    "import sqlite3\n",
    "conn = sqlite3.connect('pydatabase')\n",
    "yelp_results.to_sql('yelp', conn, if_exists='replace', index=False)"
   ]
  },
  {
   "cell_type": "raw",
   "id": "c054d104-81bb-4cd6-98c3-8d3a9cd10453",
   "metadata": {},
   "source": [
    "Comparing Results"
   ]
  },
  {
   "cell_type": "raw",
   "id": "0616908b-c47e-44b1-84f2-d562cf13ccd2",
   "metadata": {},
   "source": [
    "Which API provided you with more complete data? Provide an explanation."
   ]
  },
  {
   "cell_type": "raw",
   "id": "25b8e2e7-8cef-40a0-9cfb-95aa052b2ec6",
   "metadata": {},
   "source": [
    "Get the top 10 restaurants according to their rating"
   ]
  },
  {
   "cell_type": "code",
   "execution_count": 551,
   "id": "f2779b0c-9c8b-4a20-85ec-088b4ede3d58",
   "metadata": {},
   "outputs": [],
   "source": [
    "ratings_df = pd.DataFrame(columns = [\"Name\" ,\"Rating\"])"
   ]
  },
  {
   "cell_type": "code",
   "execution_count": 572,
   "id": "1c2dc746-0c0d-484a-b421-b88a6829c591",
   "metadata": {},
   "outputs": [],
   "source": [
    "import pandas as pd\n",
    "ratings = {'Name': [], 'Rating': [], 'Nearest_Station':[]}\n",
    "\n",
    "for i in range (1, 100):\n",
    "    res = get_yvenues(latitude, longitude)\n",
    "    rd = res.json()\n",
    "    z = 0\n",
    "\n",
    "while z < min(rd['total'], len(rd['businesses'])):\n",
    "    ratings['Name'].append(rd['businesses'][z]['alias'])\n",
    "    ratings['Rating'].append(rd['businesses'][z]['rating'])\n",
    "    \n",
    "    # Ensure that the index i stays within the valid range of DataFrame citybike_df\n",
    "    if i < len(citybike_df):\n",
    "        ratings['Nearest_Station'].append(citybike_df.iloc[i]['Station_Number'])\n",
    "    \n",
    "    z = z + 1\n",
    "    i = i + 1  \n"
   ]
  },
  {
   "cell_type": "code",
   "execution_count": 562,
   "id": "c3f1f10d-0bb5-427d-be30-6db16fe94cfd",
   "metadata": {},
   "outputs": [
    {
     "name": "stdout",
     "output_type": "stream",
     "text": [
      "{'error': {'code': 'ACCESS_LIMIT_REACHED', 'description': \"You've reached the access limit for this client. See instructions for requesting a higher access limit at https://docs.developer.yelp.com/docs/fusion-rate-limiting\"}}\n"
     ]
    }
   ],
   "source": [
    "print (rd)"
   ]
  },
  {
   "cell_type": "code",
   "execution_count": 575,
   "id": "e6168cff-e045-4029-9bde-709d0dcc20d9",
   "metadata": {},
   "outputs": [
    {
     "name": "stdout",
     "output_type": "stream",
     "text": [
      "{'Name': 20, 'Rating': 20, 'Nearest_Station': 0}\n"
     ]
    }
   ],
   "source": [
    "lengths = {key: len(value) for key, value in ratings.items()}\n",
    "print(lengths)"
   ]
  },
  {
   "cell_type": "code",
   "execution_count": 576,
   "id": "78bc9239-401e-4620-83eb-7a5a6760e168",
   "metadata": {},
   "outputs": [],
   "source": [
    "max_length = max(len(lst) for lst in ratings_data.values())\n",
    "\n",
    "for key in ratings_data:\n",
    "    while len(ratings_data[key]) < max_length:\n",
    "        ratings_data[key].append(None)"
   ]
  },
  {
   "cell_type": "code",
   "execution_count": 577,
   "id": "5c05d2a2-c107-4d30-afe7-c5e99deb1e44",
   "metadata": {},
   "outputs": [
    {
     "data": {
      "text/html": [
       "<div>\n",
       "<style scoped>\n",
       "    .dataframe tbody tr th:only-of-type {\n",
       "        vertical-align: middle;\n",
       "    }\n",
       "\n",
       "    .dataframe tbody tr th {\n",
       "        vertical-align: top;\n",
       "    }\n",
       "\n",
       "    .dataframe thead th {\n",
       "        text-align: right;\n",
       "    }\n",
       "</style>\n",
       "<table border=\"1\" class=\"dataframe\">\n",
       "  <thead>\n",
       "    <tr style=\"text-align: right;\">\n",
       "      <th></th>\n",
       "      <th>Name</th>\n",
       "      <th>Rating</th>\n",
       "      <th>Nearest_Station</th>\n",
       "    </tr>\n",
       "  </thead>\n",
       "  <tbody>\n",
       "    <tr>\n",
       "      <th>0</th>\n",
       "      <td>la-sabrosita-denver</td>\n",
       "      <td>5.0</td>\n",
       "      <td>1.0</td>\n",
       "    </tr>\n",
       "    <tr>\n",
       "      <th>1209</th>\n",
       "      <td>ta-co-mucho-bueno-denver</td>\n",
       "      <td>5.0</td>\n",
       "      <td>61.0</td>\n",
       "    </tr>\n",
       "    <tr>\n",
       "      <th>1100</th>\n",
       "      <td>la-sabrosita-denver</td>\n",
       "      <td>5.0</td>\n",
       "      <td>56.0</td>\n",
       "    </tr>\n",
       "    <tr>\n",
       "      <th>1101</th>\n",
       "      <td>20th-street-cafe-denver-4</td>\n",
       "      <td>5.0</td>\n",
       "      <td>56.0</td>\n",
       "    </tr>\n",
       "    <tr>\n",
       "      <th>1108</th>\n",
       "      <td>loris-wraps-denver</td>\n",
       "      <td>5.0</td>\n",
       "      <td>56.0</td>\n",
       "    </tr>\n",
       "    <tr>\n",
       "      <th>1109</th>\n",
       "      <td>ta-co-mucho-bueno-denver</td>\n",
       "      <td>5.0</td>\n",
       "      <td>56.0</td>\n",
       "    </tr>\n",
       "    <tr>\n",
       "      <th>1110</th>\n",
       "      <td>savoy-denver-denver</td>\n",
       "      <td>5.0</td>\n",
       "      <td>56.0</td>\n",
       "    </tr>\n",
       "    <tr>\n",
       "      <th>1120</th>\n",
       "      <td>20th-street-cafe-denver-4</td>\n",
       "      <td>5.0</td>\n",
       "      <td>57.0</td>\n",
       "    </tr>\n",
       "    <tr>\n",
       "      <th>1121</th>\n",
       "      <td>la-sabrosita-denver</td>\n",
       "      <td>5.0</td>\n",
       "      <td>57.0</td>\n",
       "    </tr>\n",
       "    <tr>\n",
       "      <th>1128</th>\n",
       "      <td>loris-wraps-denver</td>\n",
       "      <td>5.0</td>\n",
       "      <td>57.0</td>\n",
       "    </tr>\n",
       "  </tbody>\n",
       "</table>\n",
       "</div>"
      ],
      "text/plain": [
       "                           Name  Rating  Nearest_Station\n",
       "0           la-sabrosita-denver     5.0              1.0\n",
       "1209   ta-co-mucho-bueno-denver     5.0             61.0\n",
       "1100        la-sabrosita-denver     5.0             56.0\n",
       "1101  20th-street-cafe-denver-4     5.0             56.0\n",
       "1108         loris-wraps-denver     5.0             56.0\n",
       "1109   ta-co-mucho-bueno-denver     5.0             56.0\n",
       "1110        savoy-denver-denver     5.0             56.0\n",
       "1120  20th-street-cafe-denver-4     5.0             57.0\n",
       "1121        la-sabrosita-denver     5.0             57.0\n",
       "1128         loris-wraps-denver     5.0             57.0"
      ]
     },
     "execution_count": 577,
     "metadata": {},
     "output_type": "execute_result"
    }
   ],
   "source": [
    "ratings_df = pd.DataFrame(ratings_data)\n",
    "ratings_df.sort_values(by='Rating', ascending = False).head(10)"
   ]
  },
  {
   "cell_type": "code",
   "execution_count": 578,
   "id": "eee629f4-8ae0-490b-b2ca-c8326bb0d9a4",
   "metadata": {},
   "outputs": [
    {
     "data": {
      "text/plain": [
       "2421"
      ]
     },
     "execution_count": 578,
     "metadata": {},
     "output_type": "execute_result"
    }
   ],
   "source": [
    "ratings_df.to_sql('ratings', conn, if_exists = 'replace', index = False)"
   ]
  },
  {
   "cell_type": "code",
   "execution_count": null,
   "id": "7c70d86e-b2f6-45e6-8d19-6e00f6d00164",
   "metadata": {},
   "outputs": [],
   "source": []
  }
 ],
 "metadata": {
  "kernelspec": {
   "display_name": "Python 3 (ipykernel)",
   "language": "python",
   "name": "python3"
  },
  "language_info": {
   "codemirror_mode": {
    "name": "ipython",
    "version": 3
   },
   "file_extension": ".py",
   "mimetype": "text/x-python",
   "name": "python",
   "nbconvert_exporter": "python",
   "pygments_lexer": "ipython3",
   "version": "3.11.7"
  }
 },
 "nbformat": 4,
 "nbformat_minor": 5
}
